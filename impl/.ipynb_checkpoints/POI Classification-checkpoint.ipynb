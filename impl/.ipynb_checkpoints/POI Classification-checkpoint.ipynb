{
 "cells": [
  {
   "cell_type": "markdown",
   "metadata": {},
   "source": [
    "# POI Classification"
   ]
  },
  {
   "cell_type": "code",
   "execution_count": 94,
   "metadata": {
    "collapsed": true
   },
   "outputs": [],
   "source": [
    "import sys\n",
    "import pickle\n",
    "import pandas as pd\n",
    "import numpy as np\n",
    "sys.path.append(\"../tools/\")"
   ]
  },
  {
   "cell_type": "code",
   "execution_count": 2,
   "metadata": {
    "collapsed": false
   },
   "outputs": [
    {
     "name": "stderr",
     "output_type": "stream",
     "text": [
      "//anaconda/lib/python2.7/site-packages/sklearn/cross_validation.py:44: DeprecationWarning: This module was deprecated in version 0.18 in favor of the model_selection module into which all the refactored classes and functions are moved. Also note that the interface of the new CV iterators are different from that of this module. This module will be removed in 0.20.\n",
      "  \"This module will be removed in 0.20.\", DeprecationWarning)\n"
     ]
    }
   ],
   "source": [
    "from feature_format import featureFormat, targetFeatureSplit\n",
    "from tester import dump_classifier_and_data, test_classifier\n",
    "from preprocess import preprocess, ordered_columns"
   ]
  },
  {
   "cell_type": "code",
   "execution_count": 3,
   "metadata": {
    "collapsed": true
   },
   "outputs": [],
   "source": [
    "with open(\"final_project_dataset.pkl\", \"r\") as data_file:\n",
    "    data_dict = pickle.load(data_file)\n",
    "\n",
    "my_dataset = preprocess(data_dict)"
   ]
  },
  {
   "cell_type": "code",
   "execution_count": 14,
   "metadata": {
    "collapsed": false
   },
   "outputs": [],
   "source": [
    "exclude = [\"poi\", \"email_address\"]\n",
    "all_features_list = [f for f in my_dataset.items()[0][1].keys() if f not in exclude]"
   ]
  },
  {
   "cell_type": "code",
   "execution_count": 16,
   "metadata": {
    "collapsed": false
   },
   "outputs": [],
   "source": [
    "features_list_org = ['poi'] + ordered_columns + [\"to_messages\", \"from_messages\"]\n",
    "features_list_ext = features_list_org + [\"to_poi_perc\", \"from_poi_perc\", \"shared_with_poi_perc\"]\n",
    "features_list_full = [\"poi\"] + all_features_list"
   ]
  },
  {
   "cell_type": "markdown",
   "metadata": {},
   "source": [
    "Dump cleaned dataset and features_list"
   ]
  },
  {
   "cell_type": "code",
   "execution_count": 93,
   "metadata": {
    "collapsed": false
   },
   "outputs": [],
   "source": [
    "with open(\"dev/my_dataset.pkl\", \"w\") as dataset_outfile:\n",
    "        pickle.dump(my_dataset, dataset_outfile)\n",
    "\n",
    "with open(\"dev/features_list_org.pkl\", \"w\") as featurelist_outfile:\n",
    "        pickle.dump(features_list_org, featurelist_outfile)\n",
    "with open(\"dev/features_list_ext.pkl\", \"w\") as featurelist_outfile:\n",
    "        pickle.dump(features_list_ext, featurelist_outfile)\n",
    "with open(\"dev/features_list_full.pkl\", \"w\") as featurelist_outfile:\n",
    "        pickle.dump(features_list_full, featurelist_outfile)"
   ]
  },
  {
   "cell_type": "code",
   "execution_count": 46,
   "metadata": {
    "collapsed": true
   },
   "outputs": [],
   "source": [
    "from sklearn.naive_bayes import GaussianNB\n",
    "from sklearn.tree import DecisionTreeClassifier, export_graphviz\n",
    "from sklearn.ensemble import AdaBoostClassifier\n",
    "from sklearn.model_selection import GridSearchCV, StratifiedKFold, StratifiedShuffleSplit\n",
    "from sklearn.cross_validation import train_test_split\n",
    "from sklearn.metrics import accuracy_score, precision_score, recall_score, \\\n",
    "                f1_score, make_scorer\n",
    "from sklearn.feature_selection import SelectKBest, SelectPercentile, \\\n",
    "        mutual_info_classif, VarianceThreshold, chi2, f_classif\n",
    "from sklearn.pipeline import Pipeline\n"
   ]
  },
  {
   "cell_type": "markdown",
   "metadata": {},
   "source": [
    "## Test of different classifiers"
   ]
  },
  {
   "cell_type": "markdown",
   "metadata": {},
   "source": [
    "Next I will consider three different classifiers.\n",
    "Before applying each classifier feature selection procedure is run. Note that parameters of feature selection are tuned along with other classification parameters. \n",
    "100% threshoold in SelectPercentile means that all features are used in classification"
   ]
  },
  {
   "cell_type": "markdown",
   "metadata": {},
   "source": [
    "## Naive Bayes "
   ]
  },
  {
   "cell_type": "code",
   "execution_count": 19,
   "metadata": {
    "collapsed": true
   },
   "outputs": [],
   "source": [
    "data = featureFormat(my_dataset, features_list_org, sort_keys = True)\n",
    "labels, features = targetFeatureSplit(data)"
   ]
  },
  {
   "cell_type": "code",
   "execution_count": 56,
   "metadata": {
    "collapsed": true
   },
   "outputs": [],
   "source": [
    "base_clf = Pipeline([\n",
    "  ('feature_selection', SelectPercentile()),\n",
    "  ('classification', GaussianNB())\n",
    "])\n",
    "\n",
    "param = {\n",
    "    \"feature_selection__score_func\" : [f_classif, mutual_info_classif],\n",
    "    \"feature_selection__percentile\" : [30, 50, 70, 100],\n",
    "}\n",
    "\n",
    "clf_v1 = GridSearchCV(base_clf,\n",
    "                    param_grid = param,\n",
    "                    scoring = make_scorer(f1_score),\n",
    "                    cv = StratifiedShuffleSplit(n_splits=100, test_size=0.2, random_state=32))"
   ]
  },
  {
   "cell_type": "code",
   "execution_count": 57,
   "metadata": {
    "collapsed": false
   },
   "outputs": [
    {
     "name": "stderr",
     "output_type": "stream",
     "text": [
      "//anaconda/lib/python2.7/site-packages/sklearn/metrics/classification.py:1113: UndefinedMetricWarning: F-score is ill-defined and being set to 0.0 due to no predicted samples.\n",
      "  'precision', 'predicted', average, warn_for)\n"
     ]
    },
    {
     "data": {
      "text/plain": [
       "GridSearchCV(cv=StratifiedShuffleSplit(n_splits=100, random_state=32, test_size=0.2,\n",
       "            train_size=None),\n",
       "       error_score='raise',\n",
       "       estimator=Pipeline(steps=[('feature_selection', SelectPercentile(percentile=10,\n",
       "         score_func=<function f_classif at 0x1137ca668>)), ('classification', GaussianNB(priors=None))]),\n",
       "       fit_params={}, iid=True, n_jobs=1,\n",
       "       param_grid={'feature_selection__score_func': [<function f_classif at 0x1137ca668>, <function mutual_info_classif at 0x102b5d668>], 'feature_selection__percentile': [30, 50, 70, 100]},\n",
       "       pre_dispatch='2*n_jobs', refit=True, return_train_score=True,\n",
       "       scoring=make_scorer(f1_score), verbose=0)"
      ]
     },
     "execution_count": 57,
     "metadata": {},
     "output_type": "execute_result"
    }
   ],
   "source": [
    "clf_v1.fit(features, labels)"
   ]
  },
  {
   "cell_type": "code",
   "execution_count": 59,
   "metadata": {
    "collapsed": false
   },
   "outputs": [
    {
     "data": {
      "text/plain": [
       "Pipeline(steps=[('feature_selection', SelectPercentile(percentile=30,\n",
       "         score_func=<function f_classif at 0x1137ca668>)), ('classification', GaussianNB(priors=None))])"
      ]
     },
     "execution_count": 59,
     "metadata": {},
     "output_type": "execute_result"
    }
   ],
   "source": [
    "clf_v1.best_estimator_"
   ]
  },
  {
   "cell_type": "code",
   "execution_count": 62,
   "metadata": {
    "collapsed": false
   },
   "outputs": [
    {
     "data": {
      "text/plain": [
       "0.35413636363636364"
      ]
     },
     "execution_count": 62,
     "metadata": {},
     "output_type": "execute_result"
    }
   ],
   "source": [
    "clf_v1.best_score_"
   ]
  },
  {
   "cell_type": "code",
   "execution_count": 79,
   "metadata": {
    "collapsed": false,
    "scrolled": false
   },
   "outputs": [
    {
     "data": {
      "text/html": [
       "<div>\n",
       "<table border=\"1\" class=\"dataframe\">\n",
       "  <thead>\n",
       "    <tr style=\"text-align: right;\">\n",
       "      <th></th>\n",
       "      <th>percentile</th>\n",
       "      <th>score</th>\n",
       "      <th>score_fun</th>\n",
       "    </tr>\n",
       "  </thead>\n",
       "  <tbody>\n",
       "    <tr>\n",
       "      <th>0</th>\n",
       "      <td>30</td>\n",
       "      <td>0.354136</td>\n",
       "      <td>&lt;function f_classif at 0x1137ca668&gt;</td>\n",
       "    </tr>\n",
       "    <tr>\n",
       "      <th>1</th>\n",
       "      <td>30</td>\n",
       "      <td>0.210464</td>\n",
       "      <td>&lt;function mutual_info_classif at 0x102b5d668&gt;</td>\n",
       "    </tr>\n",
       "    <tr>\n",
       "      <th>2</th>\n",
       "      <td>50</td>\n",
       "      <td>0.303934</td>\n",
       "      <td>&lt;function f_classif at 0x1137ca668&gt;</td>\n",
       "    </tr>\n",
       "    <tr>\n",
       "      <th>3</th>\n",
       "      <td>50</td>\n",
       "      <td>0.261888</td>\n",
       "      <td>&lt;function mutual_info_classif at 0x102b5d668&gt;</td>\n",
       "    </tr>\n",
       "    <tr>\n",
       "      <th>4</th>\n",
       "      <td>70</td>\n",
       "      <td>0.299160</td>\n",
       "      <td>&lt;function f_classif at 0x1137ca668&gt;</td>\n",
       "    </tr>\n",
       "    <tr>\n",
       "      <th>5</th>\n",
       "      <td>70</td>\n",
       "      <td>0.302222</td>\n",
       "      <td>&lt;function mutual_info_classif at 0x102b5d668&gt;</td>\n",
       "    </tr>\n",
       "    <tr>\n",
       "      <th>6</th>\n",
       "      <td>100</td>\n",
       "      <td>0.295472</td>\n",
       "      <td>&lt;function f_classif at 0x1137ca668&gt;</td>\n",
       "    </tr>\n",
       "    <tr>\n",
       "      <th>7</th>\n",
       "      <td>100</td>\n",
       "      <td>0.295472</td>\n",
       "      <td>&lt;function mutual_info_classif at 0x102b5d668&gt;</td>\n",
       "    </tr>\n",
       "  </tbody>\n",
       "</table>\n",
       "</div>"
      ],
      "text/plain": [
       "  percentile     score                                      score_fun\n",
       "0         30  0.354136            <function f_classif at 0x1137ca668>\n",
       "1         30  0.210464  <function mutual_info_classif at 0x102b5d668>\n",
       "2         50  0.303934            <function f_classif at 0x1137ca668>\n",
       "3         50  0.261888  <function mutual_info_classif at 0x102b5d668>\n",
       "4         70  0.299160            <function f_classif at 0x1137ca668>\n",
       "5         70  0.302222  <function mutual_info_classif at 0x102b5d668>\n",
       "6        100  0.295472            <function f_classif at 0x1137ca668>\n",
       "7        100  0.295472  <function mutual_info_classif at 0x102b5d668>"
      ]
     },
     "execution_count": 79,
     "metadata": {},
     "output_type": "execute_result"
    }
   ],
   "source": [
    "pd.DataFrame(\n",
    "{ \"score\" : clf_v1.cv_results_[\"mean_test_score\"], \n",
    "\"percentile\" : clf_v1.cv_results_[\"param_feature_selection__percentile\"],\n",
    "\"score_fun\" : clf_v1.cv_results_['param_feature_selection__score_func']\n",
    "})"
   ]
  },
  {
   "cell_type": "code",
   "execution_count": 81,
   "metadata": {
    "collapsed": false,
    "scrolled": true
   },
   "outputs": [
    {
     "name": "stdout",
     "output_type": "stream",
     "text": [
      "Pipeline(steps=[('feature_selection', SelectPercentile(percentile=30,\n",
      "         score_func=<function f_classif at 0x1137ca668>)), ('classification', GaussianNB(priors=None))])\n",
      "\tAccuracy: 0.85120\tPrecision: 0.43004\tRecall: 0.35650\tF1: 0.38983\tF2: 0.36912\n",
      "\tTotal predictions: 15000\tTrue positives:  713\tFalse positives:  945\tFalse negatives: 1287\tTrue negatives: 12055\n",
      "\n"
     ]
    }
   ],
   "source": [
    "accuracy, precision, recall = test_classifier(clf_v1.best_estimator_, my_dataset, features_list_org, folds = 1000)"
   ]
  },
  {
   "cell_type": "code",
   "execution_count": 91,
   "metadata": {
    "collapsed": true
   },
   "outputs": [],
   "source": [
    "with open(\"clf_v1.pkl\", \"w\") as clf_outfile:\n",
    "        pickle.dump(clf_v1, clf_outfile)"
   ]
  },
  {
   "cell_type": "markdown",
   "metadata": {},
   "source": [
    "## Decision Tree"
   ]
  },
  {
   "cell_type": "code",
   "execution_count": 82,
   "metadata": {
    "collapsed": true
   },
   "outputs": [],
   "source": [
    "data = featureFormat(my_dataset, features_list_org, sort_keys = True)\n",
    "labels, features = targetFeatureSplit(data)"
   ]
  },
  {
   "cell_type": "code",
   "execution_count": 83,
   "metadata": {
    "collapsed": true
   },
   "outputs": [],
   "source": [
    "base_clf = Pipeline([\n",
    "  ('feature_selection', SelectPercentile()),\n",
    "  ('classification', DecisionTreeClassifier(class_weight=\"balanced\"))\n",
    "])\n",
    "\n",
    "param = {\n",
    "    \"feature_selection__score_func\" : [f_classif, mutual_info_classif],\n",
    "    \"feature_selection__percentile\" : [30, 50, 70, 100],\n",
    "    \"classification__min_samples_leaf\" : [3, 5, 8, 15],\n",
    "    \"classification__criterion\" : [\"gini\", \"entropy\"]\n",
    "}\n",
    "\n",
    "clf_v2 = GridSearchCV(base_clf,\n",
    "                    param_grid = param,\n",
    "                    scoring = make_scorer(f1_score),\n",
    "                    cv = StratifiedShuffleSplit(n_splits=100, test_size=0.2, random_state=32))"
   ]
  },
  {
   "cell_type": "code",
   "execution_count": 85,
   "metadata": {
    "collapsed": false,
    "scrolled": true
   },
   "outputs": [
    {
     "data": {
      "text/plain": [
       "GridSearchCV(cv=StratifiedShuffleSplit(n_splits=100, random_state=32, test_size=0.2,\n",
       "            train_size=None),\n",
       "       error_score='raise',\n",
       "       estimator=Pipeline(steps=[('feature_selection', SelectPercentile(percentile=10,\n",
       "         score_func=<function f_classif at 0x1137ca668>)), ('classification', DecisionTreeClassifier(class_weight='balanced', criterion='gini',\n",
       "            max_depth=None, max_features=None, max_leaf_nodes=None,\n",
       "            min_impurity_split=1e-07, min_samples_leaf=1,\n",
       "            min_samples_split=2, min_weight_fraction_leaf=0.0,\n",
       "            presort=False, random_state=None, splitter='best'))]),\n",
       "       fit_params={}, iid=True, n_jobs=1,\n",
       "       param_grid={'classification__min_samples_leaf': [3, 5, 8, 15], 'feature_selection__score_func': [<function f_classif at 0x1137ca668>, <function mutual_info_classif at 0x102b5d668>], 'classification__criterion': ['gini', 'entropy'], 'feature_selection__percentile': [30, 50, 70, 100]},\n",
       "       pre_dispatch='2*n_jobs', refit=True, return_train_score=True,\n",
       "       scoring=make_scorer(f1_score), verbose=0)"
      ]
     },
     "execution_count": 85,
     "metadata": {},
     "output_type": "execute_result"
    }
   ],
   "source": [
    "clf_v2.fit(features, labels)"
   ]
  },
  {
   "cell_type": "code",
   "execution_count": 86,
   "metadata": {
    "collapsed": false
   },
   "outputs": [
    {
     "data": {
      "text/plain": [
       "Pipeline(steps=[('feature_selection', SelectPercentile(percentile=50,\n",
       "         score_func=<function mutual_info_classif at 0x102b5d668>)), ('classification', DecisionTreeClassifier(class_weight='balanced', criterion='entropy',\n",
       "            max_depth=None, max_features=None, max_leaf_nodes=None,\n",
       "            min_impurity_split=1e-07, min_samples_leaf=15,\n",
       "            min_samples_split=2, min_weight_fraction_leaf=0.0,\n",
       "            presort=False, random_state=None, splitter='best'))])"
      ]
     },
     "execution_count": 86,
     "metadata": {},
     "output_type": "execute_result"
    }
   ],
   "source": [
    "clf_v2.best_estimator_"
   ]
  },
  {
   "cell_type": "code",
   "execution_count": 87,
   "metadata": {
    "collapsed": false
   },
   "outputs": [
    {
     "data": {
      "text/plain": [
       "0.41488685007802656"
      ]
     },
     "execution_count": 87,
     "metadata": {},
     "output_type": "execute_result"
    }
   ],
   "source": [
    "clf_v2.best_score_"
   ]
  },
  {
   "cell_type": "code",
   "execution_count": 88,
   "metadata": {
    "collapsed": false
   },
   "outputs": [
    {
     "name": "stdout",
     "output_type": "stream",
     "text": [
      "Pipeline(steps=[('feature_selection', SelectPercentile(percentile=50,\n",
      "         score_func=<function mutual_info_classif at 0x102b5d668>)), ('classification', DecisionTreeClassifier(class_weight='balanced', criterion='entropy',\n",
      "            max_depth=None, max_features=None, max_leaf_nodes=None,\n",
      "            min_impurity_split=1e-07, min_samples_leaf=15,\n",
      "            min_samples_split=2, min_weight_fraction_leaf=0.0,\n",
      "            presort=False, random_state=None, splitter='best'))])\n",
      "\tAccuracy: 0.75980\tPrecision: 0.33264\tRecall: 0.79650\tF1: 0.46929\tF2: 0.62280\n",
      "\tTotal predictions: 15000\tTrue positives: 1593\tFalse positives: 3196\tFalse negatives:  407\tTrue negatives: 9804\n",
      "\n"
     ]
    }
   ],
   "source": [
    "accuracy, precision, recall = test_classifier(clf_v2.best_estimator_, my_dataset, features_list_org, folds = 1000)"
   ]
  },
  {
   "cell_type": "markdown",
   "metadata": {},
   "source": [
    "## SVM"
   ]
  },
  {
   "cell_type": "code",
   "execution_count": 18,
   "metadata": {
    "collapsed": false
   },
   "outputs": [],
   "source": [
    "data = featureFormat(my_dataset, features_list_org, sort_keys = True)\n",
    "labels, features = targetFeatureSplit(data)"
   ]
  },
  {
   "cell_type": "code",
   "execution_count": null,
   "metadata": {
    "collapsed": true
   },
   "outputs": [],
   "source": [
    "base_clf = Pipeline([\n",
    "  ('scaling', MinMaxScaler()),     \n",
    "  ('feature_selection', SelectPercentile()),\n",
    "  ('classification', SVC()\n",
    "])\n",
    "\n",
    "param = {\n",
    "    \"feature_selection__score_func\" : [f_classif, mutual_info_classif],\n",
    "    \"feature_selection__percentile\" : [30, 50, 70, 100],\n",
    "}\n",
    "\n",
    "clf_v1 = GridSearchCV(base_clf,\n",
    "                    param_grid = param,\n",
    "                    scoring = make_scorer(f1_score),\n",
    "                    cv = StratifiedKFold(random_state=42))"
   ]
  },
  {
   "cell_type": "code",
   "execution_count": 89,
   "metadata": {
    "collapsed": true
   },
   "outputs": [],
   "source": [
    "import sklearn"
   ]
  },
  {
   "cell_type": "code",
   "execution_count": 90,
   "metadata": {
    "collapsed": false
   },
   "outputs": [
    {
     "data": {
      "text/plain": [
       "'//anaconda/lib/python2.7/site-packages/sklearn/__init__.pyc'"
      ]
     },
     "execution_count": 90,
     "metadata": {},
     "output_type": "execute_result"
    }
   ],
   "source": [
    "sklearn.__file__"
   ]
  },
  {
   "cell_type": "code",
   "execution_count": null,
   "metadata": {
    "collapsed": true
   },
   "outputs": [],
   "source": []
  }
 ],
 "metadata": {
  "kernelspec": {
   "display_name": "Python 2",
   "language": "python",
   "name": "python2"
  },
  "language_info": {
   "codemirror_mode": {
    "name": "ipython",
    "version": 2
   },
   "file_extension": ".py",
   "mimetype": "text/x-python",
   "name": "python",
   "nbconvert_exporter": "python",
   "pygments_lexer": "ipython2",
   "version": "2.7.12"
  }
 },
 "nbformat": 4,
 "nbformat_minor": 0
}
