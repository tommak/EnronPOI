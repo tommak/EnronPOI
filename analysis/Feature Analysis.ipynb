{
 "cells": [
  {
   "cell_type": "code",
   "execution_count": 1,
   "metadata": {
    "collapsed": false,
    "scrolled": true
   },
   "outputs": [],
   "source": [
    "import sys\n",
    "import pickle\n",
    "import pandas as pd\n",
    "import numpy as np\n",
    "sys.path.append(\"../tools/\")\n",
    "sys.path.append(\"../impl/\")\n",
    "\n",
    "import matplotlib.pyplot as plt\n",
    "#import seaborn as sns\n",
    "\n",
    "% matplotlib inline"
   ]
  },
  {
   "cell_type": "code",
   "execution_count": 2,
   "metadata": {
    "collapsed": false,
    "scrolled": true
   },
   "outputs": [],
   "source": [
    "from feature_format import featureFormat, targetFeatureSplit\n",
    "#from tester import dump_classifier_and_data, test_classifier\n",
    "from preprocess import preprocess_df, preprocess, clean, ordered_columns"
   ]
  },
  {
   "cell_type": "markdown",
   "metadata": {},
   "source": [
    "Get and clean data"
   ]
  },
  {
   "cell_type": "code",
   "execution_count": 7,
   "metadata": {
    "collapsed": false,
    "scrolled": true
   },
   "outputs": [],
   "source": [
    "with open(\"../impl/final_project_dataset.pkl\", \"r\") as data_file:\n",
    "    data_dict = pickle.load(data_file)\n",
    "\n",
    "df = pd.DataFrame.from_dict(data_dict, orient=\"index\")\n",
    "fixed_df = clean(df)\n",
    "original_features = fixed_df.columns\n",
    "fixed_df = preprocess_df(df)\n",
    "\n",
    "my_dataset = preprocess(data_dict)"
   ]
  },
  {
   "cell_type": "code",
   "execution_count": 4,
   "metadata": {
    "collapsed": false,
    "scrolled": true
   },
   "outputs": [
    {
     "data": {
      "text/plain": [
       "(143, 36)"
      ]
     },
     "execution_count": 4,
     "metadata": {},
     "output_type": "execute_result"
    }
   ],
   "source": [
    "fixed_df.shape"
   ]
  },
  {
   "cell_type": "markdown",
   "metadata": {},
   "source": [
    "Oridinal features"
   ]
  },
  {
   "cell_type": "code",
   "execution_count": 5,
   "metadata": {
    "collapsed": false,
    "scrolled": true
   },
   "outputs": [
    {
     "name": "stdout",
     "output_type": "stream",
     "text": [
      "Original number of features (columns)  20\n",
      "******************\n",
      "<class 'pandas.core.frame.DataFrame'>\n",
      "Index: 143 entries, ALLEN PHILLIP K to YEAP SOON\n",
      "Data columns (total 20 columns):\n",
      "salary                       94 non-null float64\n",
      "to_messages                  86 non-null float64\n",
      "deferral_payments            38 non-null float64\n",
      "total_payments               123 non-null float64\n",
      "exercised_stock_options      101 non-null float64\n",
      "bonus                        81 non-null float64\n",
      "restricted_stock             109 non-null float64\n",
      "shared_receipt_with_poi      86 non-null float64\n",
      "restricted_stock_deferred    17 non-null float64\n",
      "total_stock_value            125 non-null float64\n",
      "expenses                     94 non-null float64\n",
      "from_messages                86 non-null float64\n",
      "other                        91 non-null float64\n",
      "from_this_person_to_poi      86 non-null float64\n",
      "poi                          143 non-null bool\n",
      "director_fees                16 non-null float64\n",
      "deferred_income              48 non-null float64\n",
      "long_term_incentive          65 non-null float64\n",
      "email_address                111 non-null object\n",
      "from_poi_to_this_person      86 non-null float64\n",
      "dtypes: bool(1), float64(18), object(1)\n",
      "memory usage: 22.5+ KB\n"
     ]
    }
   ],
   "source": [
    "print \"Original number of features (columns) \", fixed_df[original_features].shape[1]\n",
    "print \"******************\"\n",
    "fixed_df[original_features].info()"
   ]
  },
  {
   "cell_type": "markdown",
   "metadata": {},
   "source": [
    "Here we will introduce a few new features which possibly are more informative for analysis:\n",
    "\n",
    "First we will scale number of emails from and to POI to the overall number of received and sent emails by a person.\n",
    "We will add new feature - gross payments which also include deferred_income. Using this new feature we will calculate percentages for all constitutions of total payments. For example, salary_perc shows what percent in gross total payments goes as salary. In the same way we will calculate percentages of gross stock value constitutions."
   ]
  },
  {
   "cell_type": "code",
   "execution_count": 6,
   "metadata": {
    "collapsed": false,
    "scrolled": true
   },
   "outputs": [
    {
     "name": "stdout",
     "output_type": "stream",
     "text": [
      "Added 16 new columns\n",
      "***********************\n",
      "<class 'pandas.core.frame.DataFrame'>\n",
      "Index: 143 entries, ALLEN PHILLIP K to YEAP SOON\n",
      "Data columns (total 16 columns):\n",
      "from_poi_to_this_person_perc      86 non-null float64\n",
      "from_this_person_to_poi_perc      86 non-null float64\n",
      "shared_receipt_with_poi_perc      86 non-null float64\n",
      "gross_payments                    46 non-null float64\n",
      "gross_stock_value                 14 non-null float64\n",
      "salary_perc                       36 non-null float64\n",
      "bonus_perc                        33 non-null float64\n",
      "long_term_incentive_perc          23 non-null float64\n",
      "deferred_income_perc              46 non-null float64\n",
      "deferral_payments_perc            16 non-null float64\n",
      "other_perc                        36 non-null float64\n",
      "expenses_perc                     37 non-null float64\n",
      "director_fees_perc                10 non-null float64\n",
      "exercised_stock_options_perc      11 non-null float64\n",
      "restricted_stock_perc             13 non-null float64\n",
      "restricted_stock_deferred_perc    14 non-null float64\n",
      "dtypes: float64(16)\n",
      "memory usage: 19.0+ KB\n"
     ]
    }
   ],
   "source": [
    "new_columns = [col for col in fixed_df.columns if col not in original_features]\n",
    "print \"Added {} new columns\".format(len(new_columns))\n",
    "print \"***********************\"\n",
    "fixed_df[new_columns].info()"
   ]
  },
  {
   "cell_type": "markdown",
   "metadata": {},
   "source": [
    "Define set of feature and prepare data in X, y format "
   ]
  },
  {
   "cell_type": "code",
   "execution_count": 64,
   "metadata": {
    "collapsed": true,
    "scrolled": true
   },
   "outputs": [],
   "source": [
    "exclude = [\"poi\", \"email_address\"]\n",
    "all_features_list = [f for f in my_dataset.items()[0][1].keys() if f not in exclude]\n",
    "\n",
    "features_list_org = ['poi'] + ordered_columns + [\"to_messages\", \"from_messages\", \"from_this_person_to_poi\", \n",
    "                                                \"shared_receipt_with_poi\", \"from_poi_to_this_person\"]\n",
    "features_list_ext = features_list_org + [\"to_poi_perc\", \"from_poi_perc\", \"shared_with_poi_perc\"]\n",
    "features_list_full = [\"poi\"] + all_features_list"
   ]
  },
  {
   "cell_type": "code",
   "execution_count": 65,
   "metadata": {
    "collapsed": false,
    "scrolled": true
   },
   "outputs": [],
   "source": [
    "#features_list = ['poi'] + ordered_columns + [\"to_messages\", \"from_messages\"] + new_columns\n",
    "\n",
    "data = featureFormat(my_dataset, features_list_org, sort_keys = True)\n",
    "labels_org, features_org = targetFeatureSplit(data)\n",
    "\n",
    "data = featureFormat(my_dataset, features_list_full, sort_keys = True)\n",
    "labels_full, features_full = targetFeatureSplit(data)\n"
   ]
  },
  {
   "cell_type": "markdown",
   "metadata": {},
   "source": [
    "## Feature selection"
   ]
  },
  {
   "cell_type": "code",
   "execution_count": 66,
   "metadata": {
    "collapsed": true,
    "scrolled": true
   },
   "outputs": [],
   "source": [
    "from sklearn.feature_selection import SelectKBest, SelectPercentile, VarianceThreshold, chi2, f_classif\n",
    "from sklearn.preprocessing import MinMaxScaler "
   ]
  },
  {
   "cell_type": "markdown",
   "metadata": {},
   "source": [
    "Perform ANOVA F-test"
   ]
  },
  {
   "cell_type": "code",
   "execution_count": 67,
   "metadata": {
    "collapsed": false,
    "scrolled": true
   },
   "outputs": [],
   "source": [
    "f, pval = f_classif(features_org, labels_org)"
   ]
  },
  {
   "cell_type": "code",
   "execution_count": 68,
   "metadata": {
    "collapsed": false,
    "scrolled": true
   },
   "outputs": [
    {
     "data": {
      "text/plain": [
       "[('exercised_stock_options', 24.815079733218194, 1.8182048777865317e-06),\n",
       " ('total_stock_value', 24.182898678566879, 2.4043152760436886e-06),\n",
       " ('bonus', 20.792252047181535, 1.10129873239521e-05),\n",
       " ('salary', 18.289684043404513, 3.4782737683651706e-05),\n",
       " ('deferred_income', 11.458476579280369, 0.00092203670846723062),\n",
       " ('long_term_incentive', 9.9221860131898225, 0.0019941812453537077),\n",
       " ('restricted_stock', 9.2128106219771002, 0.002862802957909168),\n",
       " ('total_payments', 8.7727777300916756, 0.0035893261725153044),\n",
       " ('shared_receipt_with_poi', 8.589420731682381, 0.0039458026165322567),\n",
       " ('other', 7.1501974379898821, 0.0083808944609322627),\n",
       " ('expenses', 6.0941733106389453, 0.014758199965371975),\n",
       " ('from_poi_to_this_person', 5.2434497133749582, 0.023513867086669714),\n",
       " ('from_this_person_to_poi', 2.3826121082276739, 0.12493365956927895),\n",
       " ('director_fees', 2.1263278020077054, 0.14701111317392224),\n",
       " ('to_messages', 1.6463411294420076, 0.20156265029435688),\n",
       " ('deferral_payments', 0.22461127473600989, 0.63628164745867344),\n",
       " ('from_messages', 0.16970094762175533, 0.68100330042070167),\n",
       " ('restricted_stock_deferred', 0.065499652909942141, 0.79837865656298534)]"
      ]
     },
     "execution_count": 68,
     "metadata": {},
     "output_type": "execute_result"
    }
   ],
   "source": [
    "feat_fscore = sorted(zip(features_list_org[1:], f, pval), key = lambda s: s[1], reverse=True )\n",
    "feat_fscore"
   ]
  },
  {
   "cell_type": "markdown",
   "metadata": {},
   "source": [
    "Explore mutual information"
   ]
  },
  {
   "cell_type": "code",
   "execution_count": 69,
   "metadata": {
    "collapsed": false,
    "scrolled": true
   },
   "outputs": [],
   "source": [
    "from sklearn.feature_selection import mutual_info_classif"
   ]
  },
  {
   "cell_type": "code",
   "execution_count": 70,
   "metadata": {
    "collapsed": false,
    "scrolled": false
   },
   "outputs": [
    {
     "data": {
      "text/plain": [
       "[('bonus', 0.080299572748645742),\n",
       " ('shared_receipt_with_poi', 0.072626000733685414),\n",
       " ('expenses', 0.069549979272630402),\n",
       " ('other', 0.067042800255028734),\n",
       " ('total_stock_value', 0.042467659563932392),\n",
       " ('restricted_stock_deferred', 0.042079785052905772),\n",
       " ('restricted_stock', 0.039654110934802977),\n",
       " ('from_this_person_to_poi', 0.037321491423718545),\n",
       " ('salary', 0.034049148912266736),\n",
       " ('deferred_income', 0.023100839204649226),\n",
       " ('exercised_stock_options', 0.016627705046638575),\n",
       " ('total_payments', 0.010398512607012966),\n",
       " ('from_poi_to_this_person', 0.0048538823899357819),\n",
       " ('long_term_incentive', 0.0),\n",
       " ('deferral_payments', 0.0)]"
      ]
     },
     "execution_count": 70,
     "metadata": {},
     "output_type": "execute_result"
    }
   ],
   "source": [
    "minf = mutual_info_classif(features_org, labels_org)\n",
    "feat_infscore = sorted(zip(features_list_org[1:], minf), key = lambda s: s[1], reverse=True )\n",
    "feat_infscore[:15]"
   ]
  },
  {
   "cell_type": "code",
   "execution_count": 71,
   "metadata": {
    "collapsed": false,
    "scrolled": false
   },
   "outputs": [
    {
     "data": {
      "text/plain": [
       "('exercised_stock_options',\n",
       " 'total_stock_value',\n",
       " 'bonus',\n",
       " 'salary',\n",
       " 'deferred_income',\n",
       " 'long_term_incentive',\n",
       " 'restricted_stock',\n",
       " 'total_payments',\n",
       " 'shared_receipt_with_poi',\n",
       " 'other')"
      ]
     },
     "execution_count": 71,
     "metadata": {},
     "output_type": "execute_result"
    }
   ],
   "source": [
    "top10_fscore = zip(*feat_fscore)[0][:10]\n",
    "top10_fscore"
   ]
  },
  {
   "cell_type": "code",
   "execution_count": 72,
   "metadata": {
    "collapsed": false,
    "scrolled": false
   },
   "outputs": [
    {
     "data": {
      "text/plain": [
       "('bonus',\n",
       " 'shared_receipt_with_poi',\n",
       " 'expenses',\n",
       " 'other',\n",
       " 'total_stock_value',\n",
       " 'restricted_stock_deferred',\n",
       " 'restricted_stock',\n",
       " 'from_this_person_to_poi',\n",
       " 'salary',\n",
       " 'deferred_income')"
      ]
     },
     "execution_count": 72,
     "metadata": {},
     "output_type": "execute_result"
    }
   ],
   "source": [
    "top10_infscore = zip(*feat_infscore)[0][:10]\n",
    "top10_infscore"
   ]
  },
  {
   "cell_type": "markdown",
   "metadata": {},
   "source": [
    "F-statistics and mutual information give different rankings of feature influence, but features in the top are more or less the same.\n",
    "Both methods state that the following features are most important (among top 10 important features for both methods):"
   ]
  },
  {
   "cell_type": "code",
   "execution_count": 73,
   "metadata": {
    "collapsed": false,
    "scrolled": true
   },
   "outputs": [
    {
     "data": {
      "text/plain": [
       "{'bonus',\n",
       " 'deferred_income',\n",
       " 'other',\n",
       " 'restricted_stock',\n",
       " 'salary',\n",
       " 'shared_receipt_with_poi',\n",
       " 'total_stock_value'}"
      ]
     },
     "execution_count": 73,
     "metadata": {},
     "output_type": "execute_result"
    }
   ],
   "source": [
    "set(top10_fscore).intersection(top10_infscore)"
   ]
  },
  {
   "cell_type": "markdown",
   "metadata": {},
   "source": [
    "Now we will add new features and see how ranking change"
   ]
  },
  {
   "cell_type": "code",
   "execution_count": 74,
   "metadata": {
    "collapsed": false,
    "scrolled": true
   },
   "outputs": [],
   "source": [
    "f, pval = f_classif(features_full, labels_full)\n",
    "feat_fscore_full = sorted(zip(features_list_full[1:], f, pval), key = lambda s: s[1], reverse=True )\n",
    "\n",
    "minf = mutual_info_classif(features_full, labels_full)\n",
    "feat_infscore_full = sorted(zip(features_list_full[1:], minf), key = lambda s: s[1], reverse=True )"
   ]
  },
  {
   "cell_type": "code",
   "execution_count": 75,
   "metadata": {
    "collapsed": true,
    "scrolled": true
   },
   "outputs": [],
   "source": [
    "top10_fscore_full = zip(*feat_fscore_full)[0][:10]\n",
    "top10_infscore_full = zip(*feat_infscore_full)[0][:10]"
   ]
  },
  {
   "cell_type": "code",
   "execution_count": 76,
   "metadata": {
    "collapsed": false,
    "scrolled": true
   },
   "outputs": [
    {
     "data": {
      "text/plain": [
       "{'bonus',\n",
       " 'from_this_person_to_poi_perc',\n",
       " 'gross_payments',\n",
       " 'total_stock_value'}"
      ]
     },
     "execution_count": 76,
     "metadata": {},
     "output_type": "execute_result"
    }
   ],
   "source": [
    "set(top10_fscore_full).intersection(top10_infscore_full)"
   ]
  },
  {
   "cell_type": "markdown",
   "metadata": {},
   "source": [
    "After peforming ranking on a whole data set we have got interesting results. \n",
    "\n",
    "There are already only 4 features which were ranked in top 10 by both methods. There are 2 new features among them: gross_payments, to_poi_perc "
   ]
  },
  {
   "cell_type": "code",
   "execution_count": 77,
   "metadata": {
    "collapsed": false,
    "scrolled": false
   },
   "outputs": [
    {
     "data": {
      "text/plain": [
       "{'bonus',\n",
       " 'from_this_person_to_poi_perc',\n",
       " 'gross_payments',\n",
       " 'long_term_incentive',\n",
       " 'other',\n",
       " 'restricted_stock',\n",
       " 'salary',\n",
       " 'shared_receipt_with_poi',\n",
       " 'total_stock_value'}"
      ]
     },
     "execution_count": 77,
     "metadata": {},
     "output_type": "execute_result"
    }
   ],
   "source": [
    "set(zip(*feat_fscore_full)[0][:15]).intersection(zip(*feat_infscore_full)[0][:15])"
   ]
  },
  {
   "cell_type": "code",
   "execution_count": 78,
   "metadata": {
    "collapsed": true,
    "scrolled": true
   },
   "outputs": [],
   "source": [
    "d = {}\n",
    "for feat, f, pval in feat_fscore_full:\n",
    "    d[feat] = f "
   ]
  },
  {
   "cell_type": "code",
   "execution_count": 79,
   "metadata": {
    "collapsed": false,
    "scrolled": false
   },
   "outputs": [],
   "source": [
    "l = []\n",
    "feat_dict = {}\n",
    "for feat in features_list_org[1:]:\n",
    "    new_feat = feat + \"_perc\"\n",
    "    feat_dict[feat] = new_feat\n",
    "    if new_feat in features_list_full:\n",
    "        l.append([feat, d[feat], new_feat, d[new_feat] ])\n",
    "\n",
    "        \n",
    "        \n",
    "for feat in [\"total_payments\", \"total_stock_value\"]:\n",
    "    new_feat = feat.replace(\"total\", \"gross\")\n",
    "    feat_dict[feat] = new_feat\n",
    "    l.append([feat, d[feat], new_feat, d[new_feat] ])\n",
    "    \n"
   ]
  },
  {
   "cell_type": "code",
   "execution_count": 80,
   "metadata": {
    "collapsed": false,
    "scrolled": false
   },
   "outputs": [
    {
     "data": {
      "text/html": [
       "<div>\n",
       "<table border=\"1\" class=\"dataframe\">\n",
       "  <thead>\n",
       "    <tr style=\"text-align: right;\">\n",
       "      <th></th>\n",
       "      <th>original</th>\n",
       "      <th>fval</th>\n",
       "      <th>new</th>\n",
       "      <th>new_fval</th>\n",
       "      <th>diff</th>\n",
       "      <th>corr</th>\n",
       "    </tr>\n",
       "  </thead>\n",
       "  <tbody>\n",
       "    <tr>\n",
       "      <th>0</th>\n",
       "      <td>salary</td>\n",
       "      <td>18.289684</td>\n",
       "      <td>salary_perc</td>\n",
       "      <td>4.106780</td>\n",
       "      <td>-14.182904</td>\n",
       "      <td>-0.196172</td>\n",
       "    </tr>\n",
       "    <tr>\n",
       "      <th>1</th>\n",
       "      <td>bonus</td>\n",
       "      <td>20.792252</td>\n",
       "      <td>bonus_perc</td>\n",
       "      <td>19.709040</td>\n",
       "      <td>-1.083212</td>\n",
       "      <td>-0.044828</td>\n",
       "    </tr>\n",
       "    <tr>\n",
       "      <th>2</th>\n",
       "      <td>long_term_incentive</td>\n",
       "      <td>9.922186</td>\n",
       "      <td>long_term_incentive_perc</td>\n",
       "      <td>12.103787</td>\n",
       "      <td>2.181601</td>\n",
       "      <td>0.121355</td>\n",
       "    </tr>\n",
       "    <tr>\n",
       "      <th>3</th>\n",
       "      <td>deferred_income</td>\n",
       "      <td>11.458477</td>\n",
       "      <td>deferred_income_perc</td>\n",
       "      <td>1.487176</td>\n",
       "      <td>-9.971301</td>\n",
       "      <td>-0.337682</td>\n",
       "    </tr>\n",
       "    <tr>\n",
       "      <th>4</th>\n",
       "      <td>deferral_payments</td>\n",
       "      <td>0.224611</td>\n",
       "      <td>deferral_payments_perc</td>\n",
       "      <td>0.018443</td>\n",
       "      <td>-0.206169</td>\n",
       "      <td>0.324951</td>\n",
       "    </tr>\n",
       "    <tr>\n",
       "      <th>5</th>\n",
       "      <td>other</td>\n",
       "      <td>7.150197</td>\n",
       "      <td>other_perc</td>\n",
       "      <td>4.357890</td>\n",
       "      <td>-2.792307</td>\n",
       "      <td>0.502393</td>\n",
       "    </tr>\n",
       "    <tr>\n",
       "      <th>6</th>\n",
       "      <td>expenses</td>\n",
       "      <td>6.094173</td>\n",
       "      <td>expenses_perc</td>\n",
       "      <td>0.201163</td>\n",
       "      <td>-5.893011</td>\n",
       "      <td>0.703580</td>\n",
       "    </tr>\n",
       "    <tr>\n",
       "      <th>7</th>\n",
       "      <td>director_fees</td>\n",
       "      <td>2.126328</td>\n",
       "      <td>director_fees_perc</td>\n",
       "      <td>1.339722</td>\n",
       "      <td>-0.786606</td>\n",
       "      <td>0.607470</td>\n",
       "    </tr>\n",
       "    <tr>\n",
       "      <th>8</th>\n",
       "      <td>exercised_stock_options</td>\n",
       "      <td>24.815080</td>\n",
       "      <td>exercised_stock_options_perc</td>\n",
       "      <td>1.448859</td>\n",
       "      <td>-23.366220</td>\n",
       "      <td>0.369351</td>\n",
       "    </tr>\n",
       "    <tr>\n",
       "      <th>9</th>\n",
       "      <td>restricted_stock</td>\n",
       "      <td>9.212811</td>\n",
       "      <td>restricted_stock_perc</td>\n",
       "      <td>1.163234</td>\n",
       "      <td>-8.049577</td>\n",
       "      <td>0.028985</td>\n",
       "    </tr>\n",
       "    <tr>\n",
       "      <th>10</th>\n",
       "      <td>restricted_stock_deferred</td>\n",
       "      <td>0.065500</td>\n",
       "      <td>restricted_stock_deferred_perc</td>\n",
       "      <td>0.786983</td>\n",
       "      <td>0.721483</td>\n",
       "      <td>-0.208816</td>\n",
       "    </tr>\n",
       "    <tr>\n",
       "      <th>11</th>\n",
       "      <td>from_this_person_to_poi</td>\n",
       "      <td>2.382612</td>\n",
       "      <td>from_this_person_to_poi_perc</td>\n",
       "      <td>16.409713</td>\n",
       "      <td>14.027100</td>\n",
       "      <td>-0.046771</td>\n",
       "    </tr>\n",
       "    <tr>\n",
       "      <th>12</th>\n",
       "      <td>shared_receipt_with_poi</td>\n",
       "      <td>8.589421</td>\n",
       "      <td>shared_receipt_with_poi_perc</td>\n",
       "      <td>9.101269</td>\n",
       "      <td>0.511848</td>\n",
       "      <td>0.232536</td>\n",
       "    </tr>\n",
       "    <tr>\n",
       "      <th>13</th>\n",
       "      <td>from_poi_to_this_person</td>\n",
       "      <td>5.243450</td>\n",
       "      <td>from_poi_to_this_person_perc</td>\n",
       "      <td>3.128092</td>\n",
       "      <td>-2.115358</td>\n",
       "      <td>0.468983</td>\n",
       "    </tr>\n",
       "    <tr>\n",
       "      <th>14</th>\n",
       "      <td>total_payments</td>\n",
       "      <td>8.772778</td>\n",
       "      <td>gross_payments</td>\n",
       "      <td>11.334277</td>\n",
       "      <td>2.561500</td>\n",
       "      <td>0.992379</td>\n",
       "    </tr>\n",
       "    <tr>\n",
       "      <th>15</th>\n",
       "      <td>total_stock_value</td>\n",
       "      <td>24.182899</td>\n",
       "      <td>gross_stock_value</td>\n",
       "      <td>0.817445</td>\n",
       "      <td>-23.365454</td>\n",
       "      <td>0.987524</td>\n",
       "    </tr>\n",
       "  </tbody>\n",
       "</table>\n",
       "</div>"
      ],
      "text/plain": [
       "                     original       fval                             new  \\\n",
       "0                      salary  18.289684                     salary_perc   \n",
       "1                       bonus  20.792252                      bonus_perc   \n",
       "2         long_term_incentive   9.922186        long_term_incentive_perc   \n",
       "3             deferred_income  11.458477            deferred_income_perc   \n",
       "4           deferral_payments   0.224611          deferral_payments_perc   \n",
       "5                       other   7.150197                      other_perc   \n",
       "6                    expenses   6.094173                   expenses_perc   \n",
       "7               director_fees   2.126328              director_fees_perc   \n",
       "8     exercised_stock_options  24.815080    exercised_stock_options_perc   \n",
       "9            restricted_stock   9.212811           restricted_stock_perc   \n",
       "10  restricted_stock_deferred   0.065500  restricted_stock_deferred_perc   \n",
       "11    from_this_person_to_poi   2.382612    from_this_person_to_poi_perc   \n",
       "12    shared_receipt_with_poi   8.589421    shared_receipt_with_poi_perc   \n",
       "13    from_poi_to_this_person   5.243450    from_poi_to_this_person_perc   \n",
       "14             total_payments   8.772778                  gross_payments   \n",
       "15          total_stock_value  24.182899               gross_stock_value   \n",
       "\n",
       "     new_fval       diff      corr  \n",
       "0    4.106780 -14.182904 -0.196172  \n",
       "1   19.709040  -1.083212 -0.044828  \n",
       "2   12.103787   2.181601  0.121355  \n",
       "3    1.487176  -9.971301 -0.337682  \n",
       "4    0.018443  -0.206169  0.324951  \n",
       "5    4.357890  -2.792307  0.502393  \n",
       "6    0.201163  -5.893011  0.703580  \n",
       "7    1.339722  -0.786606  0.607470  \n",
       "8    1.448859 -23.366220  0.369351  \n",
       "9    1.163234  -8.049577  0.028985  \n",
       "10   0.786983   0.721483 -0.208816  \n",
       "11  16.409713  14.027100 -0.046771  \n",
       "12   9.101269   0.511848  0.232536  \n",
       "13   3.128092  -2.115358  0.468983  \n",
       "14  11.334277   2.561500  0.992379  \n",
       "15   0.817445 -23.365454  0.987524  "
      ]
     },
     "execution_count": 80,
     "metadata": {},
     "output_type": "execute_result"
    }
   ],
   "source": [
    "\n",
    "l_df = pd.DataFrame(l, columns = [\"original\", \"fval\", \"new\", \"new_fval\"])\n",
    "l_df[\"diff\"] = l_df[\"new_fval\"] - l_df[\"fval\"]\n",
    "l_df[\"corr\"] = l_df.original.map(lambda f: fixed_df[f].corr(fixed_df[feat_dict[f]]) )\n",
    "l_df"
   ]
  },
  {
   "cell_type": "markdown",
   "metadata": {},
   "source": [
    "Next we can see examples where old and new feature are correlated"
   ]
  },
  {
   "cell_type": "code",
   "execution_count": 93,
   "metadata": {
    "collapsed": false,
    "scrolled": true
   },
   "outputs": [
    {
     "data": {
      "text/html": [
       "<div>\n",
       "<table border=\"1\" class=\"dataframe\">\n",
       "  <thead>\n",
       "    <tr style=\"text-align: right;\">\n",
       "      <th></th>\n",
       "      <th>original</th>\n",
       "      <th>fval</th>\n",
       "      <th>new</th>\n",
       "      <th>new_fval</th>\n",
       "      <th>diff</th>\n",
       "      <th>corr</th>\n",
       "    </tr>\n",
       "  </thead>\n",
       "  <tbody>\n",
       "    <tr>\n",
       "      <th>5</th>\n",
       "      <td>other</td>\n",
       "      <td>7.150197</td>\n",
       "      <td>other_perc</td>\n",
       "      <td>4.357890</td>\n",
       "      <td>-2.792307</td>\n",
       "      <td>0.502393</td>\n",
       "    </tr>\n",
       "    <tr>\n",
       "      <th>6</th>\n",
       "      <td>expenses</td>\n",
       "      <td>6.094173</td>\n",
       "      <td>expenses_perc</td>\n",
       "      <td>0.201163</td>\n",
       "      <td>-5.893011</td>\n",
       "      <td>0.703580</td>\n",
       "    </tr>\n",
       "    <tr>\n",
       "      <th>7</th>\n",
       "      <td>director_fees</td>\n",
       "      <td>2.126328</td>\n",
       "      <td>director_fees_perc</td>\n",
       "      <td>1.339722</td>\n",
       "      <td>-0.786606</td>\n",
       "      <td>0.607470</td>\n",
       "    </tr>\n",
       "    <tr>\n",
       "      <th>14</th>\n",
       "      <td>total_payments</td>\n",
       "      <td>8.772778</td>\n",
       "      <td>gross_payments</td>\n",
       "      <td>11.334277</td>\n",
       "      <td>2.561500</td>\n",
       "      <td>0.992379</td>\n",
       "    </tr>\n",
       "    <tr>\n",
       "      <th>15</th>\n",
       "      <td>total_stock_value</td>\n",
       "      <td>24.182899</td>\n",
       "      <td>gross_stock_value</td>\n",
       "      <td>0.817445</td>\n",
       "      <td>-23.365454</td>\n",
       "      <td>0.987524</td>\n",
       "    </tr>\n",
       "  </tbody>\n",
       "</table>\n",
       "</div>"
      ],
      "text/plain": [
       "             original       fval                 new   new_fval       diff  \\\n",
       "5               other   7.150197          other_perc   4.357890  -2.792307   \n",
       "6            expenses   6.094173       expenses_perc   0.201163  -5.893011   \n",
       "7       director_fees   2.126328  director_fees_perc   1.339722  -0.786606   \n",
       "14     total_payments   8.772778      gross_payments  11.334277   2.561500   \n",
       "15  total_stock_value  24.182899   gross_stock_value   0.817445 -23.365454   \n",
       "\n",
       "        corr  \n",
       "5   0.502393  \n",
       "6   0.703580  \n",
       "7   0.607470  \n",
       "14  0.992379  \n",
       "15  0.987524  "
      ]
     },
     "execution_count": 93,
     "metadata": {},
     "output_type": "execute_result"
    }
   ],
   "source": [
    "l_df[l_df[\"corr\"].abs() > 0.5]"
   ]
  },
  {
   "cell_type": "markdown",
   "metadata": {},
   "source": [
    "If we have to decide between two features, which one is better? Probably those, which have higher influence on the target variable. Next are features which are better to exclude"
   ]
  },
  {
   "cell_type": "code",
   "execution_count": 97,
   "metadata": {
    "collapsed": false,
    "scrolled": true
   },
   "outputs": [
    {
     "data": {
      "text/plain": [
       "5             other_perc\n",
       "6          expenses_perc\n",
       "7     director_fees_perc\n",
       "14        total_payments\n",
       "15     gross_stock_value\n",
       "dtype: object"
      ]
     },
     "execution_count": 97,
     "metadata": {},
     "output_type": "execute_result"
    }
   ],
   "source": [
    "l_df[l_df[\"corr\"].abs() > 0.5].apply(lambda r: r.original if r.fval<r.new_fval else r.new,  axis=1)"
   ]
  },
  {
   "cell_type": "markdown",
   "metadata": {},
   "source": [
    "One strategy can be to pick features manually using results from performed analysis"
   ]
  },
  {
   "cell_type": "code",
   "execution_count": 99,
   "metadata": {
    "collapsed": false,
    "scrolled": true
   },
   "outputs": [
    {
     "data": {
      "text/plain": [
       "{'bonus',\n",
       " 'deferred_income',\n",
       " 'expenses',\n",
       " 'from_poi_to_this_person_perc',\n",
       " 'from_this_person_to_poi_perc',\n",
       " 'gross_payments',\n",
       " 'long_term_incentive',\n",
       " 'long_term_incentive_perc',\n",
       " 'other',\n",
       " 'restricted_stock',\n",
       " 'salary',\n",
       " 'salary_perc',\n",
       " 'shared_receipt_with_poi',\n",
       " 'shared_receipt_with_poi_perc',\n",
       " 'total_stock_value'}"
      ]
     },
     "execution_count": 99,
     "metadata": {},
     "output_type": "execute_result"
    }
   ],
   "source": [
    "set(zip(*feat_fscore_full)[0][:20]).intersection(zip(*feat_infscore_full)[0][:20]) - {\"total_payments\", \"other_perc\"}"
   ]
  },
  {
   "cell_type": "markdown",
   "metadata": {
    "collapsed": true
   },
   "source": [
    "TO DO: Make summary regarding introduced features"
   ]
  },
  {
   "cell_type": "code",
   "execution_count": null,
   "metadata": {
    "collapsed": true,
    "scrolled": true
   },
   "outputs": [],
   "source": []
  },
  {
   "cell_type": "markdown",
   "metadata": {
    "collapsed": true
   },
   "source": [
    "## PCA and Data Visualisation"
   ]
  },
  {
   "cell_type": "code",
   "execution_count": 82,
   "metadata": {
    "collapsed": true,
    "scrolled": true
   },
   "outputs": [],
   "source": [
    "exclude = [\"poi\", \"email_address\"]\n",
    "all_features_list = [f for f in my_dataset.items()[0][1].keys() if f not in exclude]\n",
    "\n",
    "features_list_org = ['poi'] + ordered_columns + [\"to_messages\", \"from_messages\"]\n",
    "features_list_ext = features_list_org + [\"to_poi_perc\", \"from_poi_perc\", \"shared_with_poi_perc\"]\n",
    "features_list_full = [\"poi\"] + all_features_list"
   ]
  },
  {
   "cell_type": "code",
   "execution_count": 83,
   "metadata": {
    "collapsed": true,
    "scrolled": true
   },
   "outputs": [],
   "source": [
    "from sklearn.decomposition import PCA\n",
    "\n",
    "labels, features = targetFeatureSplit(featureFormat(my_dataset, features_list_org, sort_keys = True))\n",
    "scaler = MinMaxScaler()\n",
    "features_scl = scaler.fit_transform(features)\n",
    "pca = PCA()\n",
    "pca.fit(features_scl)\n",
    "\n",
    "features_trf = pca.transform(features_scl)"
   ]
  },
  {
   "cell_type": "code",
   "execution_count": 84,
   "metadata": {
    "collapsed": false,
    "scrolled": true
   },
   "outputs": [
    {
     "data": {
      "text/plain": [
       "array([  3.35310614e-01,   1.56179712e-01,   1.24116826e-01,\n",
       "         1.02473738e-01,   7.94925675e-02,   4.76877910e-02,\n",
       "         3.25273727e-02,   2.92559869e-02,   2.61835652e-02,\n",
       "         2.05307273e-02,   1.78120379e-02,   1.61921381e-02,\n",
       "         1.22104169e-02,   2.63638137e-05,   1.43632916e-07])"
      ]
     },
     "execution_count": 84,
     "metadata": {},
     "output_type": "execute_result"
    }
   ],
   "source": [
    "pca.explained_variance_ratio_"
   ]
  },
  {
   "cell_type": "code",
   "execution_count": 85,
   "metadata": {
    "collapsed": false,
    "scrolled": true
   },
   "outputs": [
    {
     "data": {
      "text/plain": [
       "<matplotlib.collections.PathCollection at 0x11a9f9ad0>"
      ]
     },
     "execution_count": 85,
     "metadata": {},
     "output_type": "execute_result"
    },
    {
     "data": {
      "image/png": "[encoded data removed]",
      "text/plain": [
       "<matplotlib.figure.Figure at 0x11a9aa6d0>"
      ]
     },
     "metadata": {},
     "output_type": "display_data"
    }
   ],
   "source": [
    "plt.subplots(figsize=(10,10))\n",
    "\n",
    "plt.scatter(x=features_trf[:,0],y=features_trf[:,1],c=labels)"
   ]
  },
  {
   "cell_type": "code",
   "execution_count": 86,
   "metadata": {
    "collapsed": false,
    "scrolled": true
   },
   "outputs": [
    {
     "name": "stdout",
     "output_type": "stream",
     "text": [
      "error: key  to_poi_perc  not present\n"
     ]
    },
    {
     "ename": "TypeError",
     "evalue": "'NoneType' object is not iterable",
     "output_type": "error",
     "traceback": [
      "\u001b[0;31m---------------------------------------------------------------------------\u001b[0m",
      "\u001b[0;31mTypeError\u001b[0m                                 Traceback (most recent call last)",
      "\u001b[0;32m<ipython-input-86-27cd606aa0f8>\u001b[0m in \u001b[0;36m<module>\u001b[0;34m()\u001b[0m\n\u001b[0;32m----> 1\u001b[0;31m \u001b[0mlabels\u001b[0m\u001b[0;34m,\u001b[0m \u001b[0mfeatures\u001b[0m \u001b[0;34m=\u001b[0m \u001b[0mtargetFeatureSplit\u001b[0m\u001b[0;34m(\u001b[0m\u001b[0mfeatureFormat\u001b[0m\u001b[0;34m(\u001b[0m\u001b[0mmy_dataset\u001b[0m\u001b[0;34m,\u001b[0m \u001b[0mfeatures_list_ext\u001b[0m\u001b[0;34m,\u001b[0m \u001b[0msort_keys\u001b[0m \u001b[0;34m=\u001b[0m \u001b[0mTrue\u001b[0m\u001b[0;34m)\u001b[0m\u001b[0;34m)\u001b[0m\u001b[0;34m\u001b[0m\u001b[0m\n\u001b[0m\u001b[1;32m      2\u001b[0m \u001b[0;34m\u001b[0m\u001b[0m\n\u001b[1;32m      3\u001b[0m \u001b[0mfeatures_scl\u001b[0m \u001b[0;34m=\u001b[0m \u001b[0mscaler\u001b[0m\u001b[0;34m.\u001b[0m\u001b[0mfit_transform\u001b[0m\u001b[0;34m(\u001b[0m\u001b[0mfeatures\u001b[0m\u001b[0;34m)\u001b[0m\u001b[0;34m\u001b[0m\u001b[0m\n\u001b[1;32m      4\u001b[0m \u001b[0mpca\u001b[0m \u001b[0;34m=\u001b[0m \u001b[0mPCA\u001b[0m\u001b[0;34m(\u001b[0m\u001b[0;34m)\u001b[0m\u001b[0;34m\u001b[0m\u001b[0m\n\u001b[1;32m      5\u001b[0m \u001b[0mpca\u001b[0m\u001b[0;34m.\u001b[0m\u001b[0mfit\u001b[0m\u001b[0;34m(\u001b[0m\u001b[0mfeatures_scl\u001b[0m\u001b[0;34m)\u001b[0m\u001b[0;34m\u001b[0m\u001b[0m\n",
      "\u001b[0;32m/Users/toma/Documents/UdacityNanodegree/P5 ML/Enron POI/tools/feature_format.pyc\u001b[0m in \u001b[0;36mtargetFeatureSplit\u001b[0;34m(data)\u001b[0m\n\u001b[1;32m    118\u001b[0m     \u001b[0mtarget\u001b[0m \u001b[0;34m=\u001b[0m \u001b[0;34m[\u001b[0m\u001b[0;34m]\u001b[0m\u001b[0;34m\u001b[0m\u001b[0m\n\u001b[1;32m    119\u001b[0m     \u001b[0mfeatures\u001b[0m \u001b[0;34m=\u001b[0m \u001b[0;34m[\u001b[0m\u001b[0;34m]\u001b[0m\u001b[0;34m\u001b[0m\u001b[0m\n\u001b[0;32m--> 120\u001b[0;31m     \u001b[0;32mfor\u001b[0m \u001b[0mitem\u001b[0m \u001b[0;32min\u001b[0m \u001b[0mdata\u001b[0m\u001b[0;34m:\u001b[0m\u001b[0;34m\u001b[0m\u001b[0m\n\u001b[0m\u001b[1;32m    121\u001b[0m         \u001b[0mtarget\u001b[0m\u001b[0;34m.\u001b[0m\u001b[0mappend\u001b[0m\u001b[0;34m(\u001b[0m \u001b[0mitem\u001b[0m\u001b[0;34m[\u001b[0m\u001b[0;36m0\u001b[0m\u001b[0;34m]\u001b[0m \u001b[0;34m)\u001b[0m\u001b[0;34m\u001b[0m\u001b[0m\n\u001b[1;32m    122\u001b[0m         \u001b[0mfeatures\u001b[0m\u001b[0;34m.\u001b[0m\u001b[0mappend\u001b[0m\u001b[0;34m(\u001b[0m \u001b[0mitem\u001b[0m\u001b[0;34m[\u001b[0m\u001b[0;36m1\u001b[0m\u001b[0;34m:\u001b[0m\u001b[0;34m]\u001b[0m \u001b[0;34m)\u001b[0m\u001b[0;34m\u001b[0m\u001b[0m\n",
      "\u001b[0;31mTypeError\u001b[0m: 'NoneType' object is not iterable"
     ]
    }
   ],
   "source": [
    "labels, features = targetFeatureSplit(featureFormat(my_dataset, features_list_ext, sort_keys = True))\n",
    "\n",
    "features_scl = scaler.fit_transform(features)\n",
    "pca = PCA()\n",
    "pca.fit(features_scl)\n",
    "\n",
    "features_trf = pca.transform(features_scl)"
   ]
  },
  {
   "cell_type": "code",
   "execution_count": null,
   "metadata": {
    "collapsed": false,
    "scrolled": true
   },
   "outputs": [],
   "source": [
    "pca.explained_variance_ratio_"
   ]
  },
  {
   "cell_type": "code",
   "execution_count": null,
   "metadata": {
    "collapsed": false,
    "scrolled": true
   },
   "outputs": [],
   "source": [
    "plt.subplots(figsize=(10,10))\n",
    "plt.scatter(x=features_trf[:,0],y=features_trf[:,1],c=labels)"
   ]
  },
  {
   "cell_type": "code",
   "execution_count": null,
   "metadata": {
    "collapsed": true,
    "scrolled": true
   },
   "outputs": [],
   "source": []
  }
 ],
 "metadata": {
  "kernelspec": {
   "display_name": "Python 2",
   "language": "python",
   "name": "python2"
  },
  "language_info": {
   "codemirror_mode": {
    "name": "ipython",
    "version": 2
   },
   "file_extension": ".py",
   "mimetype": "text/x-python",
   "name": "python",
   "nbconvert_exporter": "python",
   "pygments_lexer": "ipython2",
   "version": "2.7.12"
  }
 },
 "nbformat": 4,
 "nbformat_minor": 0
}
