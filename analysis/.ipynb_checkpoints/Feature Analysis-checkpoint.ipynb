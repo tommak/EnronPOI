{
 "cells": [
  {
   "cell_type": "code",
   "execution_count": 1,
   "metadata": {
    "collapsed": false
   },
   "outputs": [],
   "source": [
    "import sys\n",
    "import pickle\n",
    "import pandas as pd\n",
    "import numpy as np\n",
    "sys.path.append(\"../tools/\")\n",
    "sys.path.append(\"../impl/\")\n",
    "\n",
    "import matplotlib.pyplot as plt\n",
    "#import seaborn as sns\n",
    "\n",
    "% matplotlib inline"
   ]
  },
  {
   "cell_type": "code",
   "execution_count": 2,
   "metadata": {
    "collapsed": false
   },
   "outputs": [],
   "source": [
    "from feature_format import featureFormat, targetFeatureSplit\n",
    "#from tester import dump_classifier_and_data, test_classifier\n",
    "from preprocess import preprocess_df, preprocess, clean, ordered_columns"
   ]
  },
  {
   "cell_type": "markdown",
   "metadata": {},
   "source": [
    "Get and clean data"
   ]
  },
  {
   "cell_type": "code",
   "execution_count": 4,
   "metadata": {
    "collapsed": false
   },
   "outputs": [],
   "source": [
    "with open(\"../impl/final_project_dataset.pkl\", \"r\") as data_file:\n",
    "    data_dict = pickle.load(data_file)\n",
    "\n",
    "df = pd.DataFrame.from_dict(data_dict, orient=\"index\")\n",
    "fixed_df = clean(df)\n",
    "original_features = fixed_df.columns\n",
    "fixed_df = preprocess_df(df)\n",
    "\n",
    "my_dataset = preprocess(data_dict)"
   ]
  },
  {
   "cell_type": "code",
   "execution_count": 5,
   "metadata": {
    "collapsed": false
   },
   "outputs": [
    {
     "data": {
      "text/plain": [
       "(143, 36)"
      ]
     },
     "execution_count": 5,
     "metadata": {},
     "output_type": "execute_result"
    }
   ],
   "source": [
    "fixed_df.shape"
   ]
  },
  {
   "cell_type": "markdown",
   "metadata": {},
   "source": [
    "Oridinal features"
   ]
  },
  {
   "cell_type": "code",
   "execution_count": 6,
   "metadata": {
    "collapsed": false
   },
   "outputs": [
    {
     "name": "stdout",
     "output_type": "stream",
     "text": [
      "Original number of features (columns)  20\n",
      "******************\n",
      "<class 'pandas.core.frame.DataFrame'>\n",
      "Index: 143 entries, ALLEN PHILLIP K to YEAP SOON\n",
      "Data columns (total 20 columns):\n",
      "salary                       94 non-null float64\n",
      "to_messages                  86 non-null float64\n",
      "deferral_payments            38 non-null float64\n",
      "total_payments               123 non-null float64\n",
      "exercised_stock_options      101 non-null float64\n",
      "bonus                        81 non-null float64\n",
      "restricted_stock             109 non-null float64\n",
      "shared_receipt_with_poi      86 non-null float64\n",
      "restricted_stock_deferred    17 non-null float64\n",
      "total_stock_value            125 non-null float64\n",
      "expenses                     94 non-null float64\n",
      "from_messages                86 non-null float64\n",
      "other                        91 non-null float64\n",
      "from_this_person_to_poi      86 non-null float64\n",
      "poi                          143 non-null bool\n",
      "director_fees                16 non-null float64\n",
      "deferred_income              48 non-null float64\n",
      "long_term_incentive          65 non-null float64\n",
      "email_address                111 non-null object\n",
      "from_poi_to_this_person      86 non-null float64\n",
      "dtypes: bool(1), float64(18), object(1)\n",
      "memory usage: 22.5+ KB\n"
     ]
    }
   ],
   "source": [
    "print \"Original number of features (columns) \", fixed_df[original_features].shape[1]\n",
    "print \"******************\"\n",
    "fixed_df[original_features].info()"
   ]
  },
  {
   "cell_type": "markdown",
   "metadata": {},
   "source": [
    "Here we will introduce a few new features which possibly are more informative for analysis:\n",
    "\n",
    "First we will scale number of emails from and to POI to the overall number of received and sent emails by a person.\n",
    "We will add new feature - gross payments which also include deferred_income. Using this new feature we will calculate percentages for all constitutions of total payments. For example, salary_perc shows what percent in gross total payments goes as salary. In the same way we will calculate percentages of gross stock value constitutions."
   ]
  },
  {
   "cell_type": "code",
   "execution_count": 7,
   "metadata": {
    "collapsed": false,
    "scrolled": false
   },
   "outputs": [
    {
     "name": "stdout",
     "output_type": "stream",
     "text": [
      "Added 16 new columns\n",
      "***********************\n",
      "<class 'pandas.core.frame.DataFrame'>\n",
      "Index: 143 entries, ALLEN PHILLIP K to YEAP SOON\n",
      "Data columns (total 16 columns):\n",
      "from_poi_perc                     86 non-null float64\n",
      "to_poi_perc                       86 non-null float64\n",
      "shared_with_poi_perc              86 non-null float64\n",
      "gross_payments                    46 non-null float64\n",
      "gross_stock_value                 14 non-null float64\n",
      "salary_perc                       36 non-null float64\n",
      "bonus_perc                        33 non-null float64\n",
      "long_term_incentive_perc          23 non-null float64\n",
      "deferred_income_perc              46 non-null float64\n",
      "deferral_payments_perc            16 non-null float64\n",
      "other_perc                        36 non-null float64\n",
      "expenses_perc                     37 non-null float64\n",
      "director_fees_perc                10 non-null float64\n",
      "exercised_stock_options_perc      11 non-null float64\n",
      "restricted_stock_perc             13 non-null float64\n",
      "restricted_stock_deferred_perc    14 non-null float64\n",
      "dtypes: float64(16)\n",
      "memory usage: 19.0+ KB\n"
     ]
    }
   ],
   "source": [
    "new_columns = [col for col in fixed_df.columns if col not in original_features]\n",
    "print \"Added {} new columns\".format(len(new_columns))\n",
    "print \"***********************\"\n",
    "fixed_df[new_columns].info()"
   ]
  },
  {
   "cell_type": "markdown",
   "metadata": {},
   "source": [
    "Define set of feature and prepare data in X, y format "
   ]
  },
  {
   "cell_type": "code",
   "execution_count": 8,
   "metadata": {
    "collapsed": false
   },
   "outputs": [],
   "source": [
    "features_list = ['poi'] + ordered_columns + [\"to_messages\", \"from_messages\"] + new_columns\n",
    "\n",
    "data = featureFormat(my_dataset, features_list, sort_keys = True)\n",
    "labels, features = targetFeatureSplit(data)"
   ]
  },
  {
   "cell_type": "markdown",
   "metadata": {},
   "source": [
    "## Feature selection"
   ]
  },
  {
   "cell_type": "code",
   "execution_count": 9,
   "metadata": {
    "collapsed": true
   },
   "outputs": [],
   "source": [
    "from sklearn.feature_selection import SelectKBest, SelectPercentile, VarianceThreshold, chi2, f_classif\n",
    "from sklearn.preprocessing import MinMaxScaler "
   ]
  },
  {
   "cell_type": "markdown",
   "metadata": {},
   "source": [
    "Scale features"
   ]
  },
  {
   "cell_type": "code",
   "execution_count": 10,
   "metadata": {
    "collapsed": true
   },
   "outputs": [],
   "source": [
    "scaler = MinMaxScaler()\n",
    "features_scl = scaler.fit_transform(features)"
   ]
  },
  {
   "cell_type": "code",
   "execution_count": 11,
   "metadata": {
    "collapsed": false
   },
   "outputs": [
    {
     "data": {
      "text/plain": [
       "VarianceThreshold(threshold=0.0)"
      ]
     },
     "execution_count": 11,
     "metadata": {},
     "output_type": "execute_result"
    }
   ],
   "source": [
    "var_selector = VarianceThreshold()\n",
    "var_selector.fit(features_scl)"
   ]
  },
  {
   "cell_type": "markdown",
   "metadata": {},
   "source": [
    "Explore variance (for min/max scales features)"
   ]
  },
  {
   "cell_type": "code",
   "execution_count": 12,
   "metadata": {
    "collapsed": false,
    "scrolled": true
   },
   "outputs": [
    {
     "data": {
      "text/plain": [
       "[('restricted_stock_deferred', 0.0057008781329716193),\n",
       " ('other', 0.0070020821085249839),\n",
       " ('total_payments', 0.0072950662949107393),\n",
       " ('gross_payments', 0.007479037062175945),\n",
       " ('expenses_perc', 0.0078434398111576261),\n",
       " ('restricted_stock_deferred_perc', 0.0079103443140828046),\n",
       " ('gross_stock_value', 0.010156257000555391),\n",
       " ('from_messages', 0.010189564181207393),\n",
       " ('deferral_payments', 0.013330164805773632),\n",
       " ('restricted_stock', 0.013466388894725009),\n",
       " ('total_stock_value', 0.015828735181540422),\n",
       " ('restricted_stock_perc', 0.017412374845339786),\n",
       " ('long_term_incentive', 0.017805914835129298),\n",
       " ('deferral_payments_perc', 0.018737572542050378),\n",
       " ('exercised_stock_options', 0.019466332873964896),\n",
       " ('to_messages', 0.021769340545398159),\n",
       " ('bonus', 0.023710217608850968),\n",
       " ('other_perc', 0.025048413744205744),\n",
       " ('from_poi_perc', 0.027998976863101828),\n",
       " ('deferred_income', 0.029883043853425072)]"
      ]
     },
     "execution_count": 12,
     "metadata": {},
     "output_type": "execute_result"
    }
   ],
   "source": [
    "sorted(zip(features_list[1:], var_selector.variances_), key = lambda s: s[1] )[:20]"
   ]
  },
  {
   "cell_type": "markdown",
   "metadata": {},
   "source": [
    "Perform ANOVA F-test"
   ]
  },
  {
   "cell_type": "code",
   "execution_count": 13,
   "metadata": {
    "collapsed": false
   },
   "outputs": [],
   "source": [
    "f, pval = f_classif(features, labels)"
   ]
  },
  {
   "cell_type": "code",
   "execution_count": 14,
   "metadata": {
    "collapsed": false
   },
   "outputs": [
    {
     "data": {
      "text/plain": [
       "[('exercised_stock_options', 24.815079733218194),\n",
       " ('total_stock_value', 24.182898678566879),\n",
       " ('bonus', 20.792252047181535),\n",
       " ('bonus_perc', 19.709040157047042),\n",
       " ('salary', 18.289684043404513),\n",
       " ('to_poi_perc', 16.409712548035792),\n",
       " ('long_term_incentive_perc', 12.103787195478331),\n",
       " ('deferred_income', 11.458476579280369),\n",
       " ('gross_payments', 11.334277294828178),\n",
       " ('long_term_incentive', 9.9221860131898225),\n",
       " ('restricted_stock', 9.2128106219771002),\n",
       " ('shared_with_poi_perc', 9.1012687391935039),\n",
       " ('total_payments', 8.7727777300916756),\n",
       " ('other', 7.1501974379898821),\n",
       " ('expenses', 6.0941733106389453),\n",
       " ('other_perc', 4.3578903441334003),\n",
       " ('salary_perc', 4.1067803553605771),\n",
       " ('from_poi_perc', 3.1280917481567192),\n",
       " ('director_fees', 2.1263278020077054),\n",
       " ('to_messages', 1.6463411294420076)]"
      ]
     },
     "execution_count": 14,
     "metadata": {},
     "output_type": "execute_result"
    }
   ],
   "source": [
    "sorted(zip(features_list[1:], f), key = lambda s: s[1], reverse=True )[:20]"
   ]
  },
  {
   "cell_type": "code",
   "execution_count": 15,
   "metadata": {
    "collapsed": false,
    "scrolled": true
   },
   "outputs": [
    {
     "data": {
      "text/plain": [
       "[('exercised_stock_options', 1.8182048777865317e-06),\n",
       " ('total_stock_value', 2.4043152760436886e-06),\n",
       " ('bonus', 1.10129873239521e-05),\n",
       " ('bonus_perc', 1.8064025768441483e-05),\n",
       " ('salary', 3.4782737683651706e-05),\n",
       " ('to_poi_perc', 8.3889533567042162e-05),\n",
       " ('long_term_incentive_perc', 0.00066974163511083833),\n",
       " ('deferred_income', 0.00092203670846723062),\n",
       " ('gross_payments', 0.00098082726872157416),\n",
       " ('long_term_incentive', 0.0019941812453537077),\n",
       " ('restricted_stock', 0.002862802957909168),\n",
       " ('shared_with_poi_perc', 0.0030312943103536103),\n",
       " ('total_payments', 0.0035893261725153044),\n",
       " ('other', 0.0083808944609322627),\n",
       " ('expenses', 0.014758199965371975),\n",
       " ('other_perc', 0.03863720323456063),\n",
       " ('salary_perc', 0.044596998183474033),\n",
       " ('from_poi_perc', 0.079116105663795441),\n",
       " ('director_fees', 0.14701111317392224),\n",
       " ('to_messages', 0.20156265029435688)]"
      ]
     },
     "execution_count": 15,
     "metadata": {},
     "output_type": "execute_result"
    }
   ],
   "source": [
    "sorted(zip(features_list[1:], pval), key = lambda s: s[1], reverse=False )[:20]"
   ]
  },
  {
   "cell_type": "markdown",
   "metadata": {},
   "source": [
    "Explore mutual information"
   ]
  },
  {
   "cell_type": "code",
   "execution_count": 16,
   "metadata": {
    "collapsed": false
   },
   "outputs": [],
   "source": [
    "from sklearn.feature_selection import mutual_info_classif"
   ]
  },
  {
   "cell_type": "code",
   "execution_count": 17,
   "metadata": {
    "collapsed": false
   },
   "outputs": [
    {
     "data": {
      "text/plain": [
       "[('restricted_stock_perc', 0.074886727323729252),\n",
       " ('bonus', 0.07298694172712783),\n",
       " ('expenses', 0.069549979272630402),\n",
       " ('other', 0.067042800255028734),\n",
       " ('gross_payments', 0.061039217923051892),\n",
       " ('to_poi_perc', 0.053698380228472953),\n",
       " ('expenses_perc', 0.052973975086274994),\n",
       " ('restricted_stock_deferred', 0.046318149435743416),\n",
       " ('restricted_stock', 0.04335041463110656),\n",
       " ('total_stock_value', 0.042176284272557263),\n",
       " ('other_perc', 0.0394424663538957),\n",
       " ('from_poi_perc', 0.039292038802962725),\n",
       " ('restricted_stock_deferred_perc', 0.03814230812226671),\n",
       " ('director_fees', 0.034282207534269027),\n",
       " ('salary', 0.024725139588257505),\n",
       " ('shared_with_poi_perc', 0.020304771071133931),\n",
       " ('director_fees_perc', 0.018580601026940702),\n",
       " ('deferral_payments_perc', 0.016205217669766903),\n",
       " ('to_messages', 0.012296363796227228),\n",
       " ('gross_stock_value', 0.011377622388014874)]"
      ]
     },
     "execution_count": 17,
     "metadata": {},
     "output_type": "execute_result"
    }
   ],
   "source": [
    "minf = mutual_info_classif(features, labels)\n",
    "sorted(zip(features_list[1:], minf), key = lambda s: s[1], reverse=True )[:20]"
   ]
  },
  {
   "cell_type": "markdown",
   "metadata": {
    "collapsed": true
   },
   "source": [
    "TO DO: Make summary regarding introduced features"
   ]
  },
  {
   "cell_type": "markdown",
   "metadata": {
    "collapsed": true
   },
   "source": [
    "## PCA and Data Visualisation"
   ]
  },
  {
   "cell_type": "code",
   "execution_count": 18,
   "metadata": {
    "collapsed": true
   },
   "outputs": [],
   "source": [
    "exclude = [\"poi\", \"email_address\"]\n",
    "all_features_list = [f for f in my_dataset.items()[0][1].keys() if f not in exclude]\n",
    "\n",
    "features_list_org = ['poi'] + ordered_columns + [\"to_messages\", \"from_messages\"]\n",
    "features_list_ext = features_list_org + [\"to_poi_perc\", \"from_poi_perc\", \"shared_with_poi_perc\"]\n",
    "features_list_full = [\"poi\"] + all_features_list"
   ]
  },
  {
   "cell_type": "code",
   "execution_count": 19,
   "metadata": {
    "collapsed": true
   },
   "outputs": [],
   "source": [
    "from sklearn.decomposition import PCA\n",
    "\n",
    "labels, features = targetFeatureSplit(featureFormat(my_dataset, features_list_org, sort_keys = True))\n",
    "scaler = MinMaxScaler()\n",
    "features_scl = scaler.fit_transform(features)\n",
    "pca = PCA()\n",
    "pca.fit(features_scl)\n",
    "\n",
    "features_trf = pca.transform(features_scl)"
   ]
  },
  {
   "cell_type": "code",
   "execution_count": 20,
   "metadata": {
    "collapsed": false
   },
   "outputs": [
    {
     "data": {
      "text/plain": [
       "array([  3.35310614e-01,   1.56179712e-01,   1.24116826e-01,\n",
       "         1.02473738e-01,   7.94925675e-02,   4.76877910e-02,\n",
       "         3.25273727e-02,   2.92559869e-02,   2.61835652e-02,\n",
       "         2.05307273e-02,   1.78120379e-02,   1.61921381e-02,\n",
       "         1.22104169e-02,   2.63638137e-05,   1.43632916e-07])"
      ]
     },
     "execution_count": 20,
     "metadata": {},
     "output_type": "execute_result"
    }
   ],
   "source": [
    "pca.explained_variance_ratio_"
   ]
  },
  {
   "cell_type": "code",
   "execution_count": 21,
   "metadata": {
    "collapsed": false
   },
   "outputs": [
    {
     "data": {
      "text/plain": [
       "<matplotlib.collections.PathCollection at 0x119d97690>"
      ]
     },
     "execution_count": 21,
     "metadata": {},
     "output_type": "execute_result"
    },
    {
     "data": {
      "image/png": "[encoded data removed]",
      "text/plain": [
       "<matplotlib.figure.Figure at 0x11784f910>"
      ]
     },
     "metadata": {},
     "output_type": "display_data"
    }
   ],
   "source": [
    "plt.subplots(figsize=(10,10))\n",
    "\n",
    "plt.scatter(x=features_trf[:,0],y=features_trf[:,1],c=labels)"
   ]
  },
  {
   "cell_type": "code",
   "execution_count": 22,
   "metadata": {
    "collapsed": true
   },
   "outputs": [],
   "source": [
    "labels, features = targetFeatureSplit(featureFormat(my_dataset, features_list_ext, sort_keys = True))\n",
    "\n",
    "features_scl = scaler.fit_transform(features)\n",
    "pca = PCA()\n",
    "pca.fit(features_scl)\n",
    "\n",
    "features_trf = pca.transform(features_scl)"
   ]
  },
  {
   "cell_type": "code",
   "execution_count": 23,
   "metadata": {
    "collapsed": false
   },
   "outputs": [
    {
     "data": {
      "text/plain": [
       "array([  3.86396250e-01,   1.55532153e-01,   9.23487510e-02,\n",
       "         7.65632730e-02,   5.96361741e-02,   4.80108501e-02,\n",
       "         3.37432266e-02,   2.94255151e-02,   2.78553120e-02,\n",
       "         1.94116424e-02,   1.71687897e-02,   1.56595726e-02,\n",
       "         1.15942030e-02,   1.06212060e-02,   8.89147686e-03,\n",
       "         7.12597894e-03,   1.55428784e-05,   8.25500115e-08])"
      ]
     },
     "execution_count": 23,
     "metadata": {},
     "output_type": "execute_result"
    }
   ],
   "source": [
    "pca.explained_variance_ratio_"
   ]
  },
  {
   "cell_type": "code",
   "execution_count": 24,
   "metadata": {
    "collapsed": false
   },
   "outputs": [
    {
     "data": {
      "text/plain": [
       "<matplotlib.collections.PathCollection at 0x11a05fc10>"
      ]
     },
     "execution_count": 24,
     "metadata": {},
     "output_type": "execute_result"
    },
    {
     "data": {
      "image/png": "[encoded data removed]",
      "text/plain": [
       "<matplotlib.figure.Figure at 0x11a05f890>"
      ]
     },
     "metadata": {},
     "output_type": "display_data"
    }
   ],
   "source": [
    "plt.subplots(figsize=(10,10))\n",
    "plt.scatter(x=features_trf[:,0],y=features_trf[:,1],c=labels)"
   ]
  },
  {
   "cell_type": "code",
   "execution_count": null,
   "metadata": {
    "collapsed": true
   },
   "outputs": [],
   "source": []
  }
 ],
 "metadata": {
  "kernelspec": {
   "display_name": "Python 2",
   "language": "python",
   "name": "python2"
  },
  "language_info": {
   "codemirror_mode": {
    "name": "ipython",
    "version": 2
   },
   "file_extension": ".py",
   "mimetype": "text/x-python",
   "name": "python",
   "nbconvert_exporter": "python",
   "pygments_lexer": "ipython2",
   "version": "2.7.12"
  }
 },
 "nbformat": 4,
 "nbformat_minor": 0
}
