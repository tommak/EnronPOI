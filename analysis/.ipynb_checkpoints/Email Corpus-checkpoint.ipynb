{
 "cells": [
  {
   "cell_type": "code",
   "execution_count": 4,
   "metadata": {
    "collapsed": false
   },
   "outputs": [],
   "source": [
    "import pandas as pd\n",
    "import pickle\n",
    "import numpy as np\n",
    "import sys\n",
    "sys.path.append(\"../impl/\")\n",
    "from preprocess import clean"
   ]
  },
  {
   "cell_type": "code",
   "execution_count": 5,
   "metadata": {
    "collapsed": false
   },
   "outputs": [],
   "source": [
    "with open(\"../impl/final_project_dataset.pkl\", \"r\") as data_file:\n",
    "    data_dict = pickle.load(data_file)\n",
    "\n",
    "df = pd.DataFrame.from_dict(data_dict, orient=\"index\")\n",
    "fixed_df = clean(df)"
   ]
  },
  {
   "cell_type": "code",
   "execution_count": 6,
   "metadata": {
    "collapsed": false
   },
   "outputs": [
    {
     "name": "stdout",
     "output_type": "stream",
     "text": [
      "Can not find  phillip.allen@enron.com\n",
      "Can not find  james.bannantine@enron.com\n",
      "Can not find  frank.bay@enron.com\n",
      "Can not find  sally.beck@enron.com\n",
      "Can not find  tim.belden@enron.com\n",
      "Can not find  david.berberian@enron.com\n",
      "Can not find  rick.bergsieker@enron.com\n",
      "Can not find  sanjay.bhatnagar@enron.com\n",
      "Can not find  philippe.bibi@enron.com\n",
      "Can not find  jeremy.blachman@enron.com\n",
      "Can not find  raymond.bowen@enron.com\n",
      "Can not find  michael.brown@enron.com\n",
      "Can not find  john.buchanan@enron.com\n",
      "Can not find  bob.butts@enron.com\n",
      "Can not find  rick.buy@enron.com\n",
      "Can not find  christopher.calger@enron.com\n",
      "Can not find  rebecca.carter@enron.com\n",
      "Can not find  richard.causey@enron.com\n",
      "Can not find  diomedes.christodoulou@enron.com\n",
      "Can not find  wes.colwell@enron.com\n",
      "Can not find  bill.cordes@enron.com\n",
      "Can not find  chip.cox@enron.com\n",
      "Can not find  joseph.deffner@enron.com\n",
      "Can not find  david.delainey@enron.com\n",
      "Can not find  james.derrick@enron.com\n",
      "Can not find  timothy.detmering@enron.com\n",
      "Can not find  janet.dietrich@enron.com\n",
      "Can not find  richard.dimichele@enron.com\n",
      "Can not find  keith.dodson@enron.com\n",
      "Can not find  jeff.donahue@enron.com\n",
      "Can not find  w.duran@enron.com\n",
      "Can not find  john.echols@enron.com\n",
      "Can not find  steven.elliott@enron.com\n",
      "Can not find  jim.fallon@enron.com\n",
      "Can not find  andrew.fastow@enron.com\n",
      "Can not find  jay.fitzgerald@enron.com\n",
      "Can not find  kulvinder.fowler@enron.com\n",
      "Can not find  tracy.foy@enron.com\n",
      "Can not find  mark.frevert@enron.com\n",
      "Can not find  kevin.garland@enron.com\n",
      "Can not find  dana.gibbs@enron.com\n",
      "Can not find  ben.glisan@enron.com\n",
      "Can not find  joe.gold@enron.com\n",
      "Can not find  mark.haedicke@enron.com\n",
      "Can not find  kevin.hannon@enron.com\n",
      "Can not find  david.haug@enron.com\n",
      "Can not find  robert.hayes@enron.com\n",
      "Can not find  rod.hayslett@enron.com\n",
      "Can not find  robert.hermann@enron.com\n",
      "Can not find  gary.hickerson@enron.com\n",
      "Can not find  joe.hirko@enron.com\n",
      "Can not find  stanley.horton@enron.com\n",
      "Can not find  james.hughes@enron.com\n",
      "Can not find  gene.humphrey@enron.com\n",
      "Can not find  larry.izzo@enron.com\n",
      "Can not find  charlene.jackson@enron.com\n",
      "Can not find  vince.kaminski@enron.com\n",
      "Can not find  steven.kean@enron.com\n",
      "Can not find  joe.kishkill@enron.com\n",
      "Can not find  louise.kitchen@enron.com\n",
      "Can not find  mark.koenig@enron.com\n",
      "Can not find  michael.kopper@enron.com\n",
      "Can not find  john.lavorato@enron.com\n",
      "Can not find  kenneth.lay@enron.com\n",
      "Can not find  dan.leff@enron.com\n",
      "Can not find  richard.lewis@enron.com\n",
      "Can not find  tod.lindholm@enron.com\n",
      "Can not find  a..martin@enron.com\n",
      "Can not find  danny.mccarty@enron.com\n",
      "Can not find  george.mcclellan@enron.com\n",
      "Can not find  mike.mcconnell@enron.com\n",
      "Can not find  rebecca.mcdonald@enron.com\n",
      "Can not find  jeffrey.mcmahon@enron.com\n",
      "Can not find  mark.metts@enron.com\n",
      "Can not find  rockford.meyer@enron.com\n",
      "Can not find  michael.moran@enron.com\n",
      "Can not find  kristina.mordaunt@enron.com\n",
      "Can not find  s..muller@enron.com\n",
      "Can not find  julia.murray@enron.com\n",
      "Can not find  cindy.olson@enron.com\n",
      "Can not find  jere.overdyke@enron.com\n",
      "Can not find  lou.pai@enron.com\n",
      "Can not find  mark.pickering@enron.com\n",
      "Can not find  greg.piper@enron.com\n",
      "Can not find  jim.piro@enron.com\n",
      "Can not find  ken.powers@enron.com\n",
      "Can not find  james.prentice@enron.com\n",
      "Can not find  brian.redmond@enron.com\n",
      "Can not find  ken.rice@enron.com\n",
      "Can not find  paula.rieker@enron.com\n",
      "Can not find  matthew.scrimshaw@enron.com\n",
      "Can not find  jeffrey.shankman@enron.com\n",
      "Can not find  richard.shapiro@enron.com\n",
      "Can not find  vicki.sharp@enron.com\n",
      "Can not find  rex.shelby@enron.com\n",
      "Can not find  jeffrey.sherrick@enron.com\n",
      "Can not find  john.sherriff@enron.com\n",
      "Can not find  jeff.skilling@enron.com\n",
      "Can not find  frank.stabler@enron.com\n",
      "Can not find  marty.sunde@enron.com\n",
      "Can not find  mitchell.taylor@enron.com\n",
      "Can not find  terence.thorn@enron.com\n",
      "Can not find  elizabeth.tilney@enron.com\n",
      "Can not find  adam.umanoff@enron.com\n",
      "Can not find  rob.walls@enron.com\n",
      "Can not find  george.wasaff@enron.com\n",
      "Can not find  dick.westfahl@enron.com\n",
      "Can not find  greg.whalley@enron.com\n",
      "Can not find  thomas.white@enron.com\n",
      "Can not find  john.wodraska@enron.com\n",
      "Can not find  scott.yeager@enron.com\n"
     ]
    }
   ],
   "source": [
    "refs = {}\n",
    "for email in fixed_df.loc[fixed_df.email_address.notnull(), \"email_address\"]:\n",
    "    fname = \"emails_by_address/from_\" + str(email) + \".txt\" \n",
    "    try:\n",
    "        with open(fname, \"r\") as f:\n",
    "            refs[email] = f.readlines()\n",
    "    except IOError:\n",
    "        print \"Can not find \", email\n",
    "    "
   ]
  },
  {
   "cell_type": "markdown",
   "metadata": {},
   "source": [
    "Make list of all email addresses including poi identifier"
   ]
  },
  {
   "cell_type": "code",
   "execution_count": 7,
   "metadata": {
    "collapsed": true
   },
   "outputs": [],
   "source": [
    "fixed_df[\"shared_with_poi_perc\"] = fixed_df[\"shared_receipt_with_poi\"]/fixed_df[\"to_messages\"]"
   ]
  },
  {
   "cell_type": "code",
   "execution_count": 8,
   "metadata": {
    "collapsed": false
   },
   "outputs": [
    {
     "data": {
      "text/plain": [
       "count    86.000000\n",
       "mean      0.609058\n",
       "std       0.287300\n",
       "min       0.018377\n",
       "25%       0.413779\n",
       "50%       0.661044\n",
       "75%       0.841199\n",
       "max       1.001145\n",
       "Name: shared_with_poi_perc, dtype: float64"
      ]
     },
     "execution_count": 8,
     "metadata": {},
     "output_type": "execute_result"
    }
   ],
   "source": [
    "fixed_df[\"shared_with_poi_perc\"].describe()"
   ]
  },
  {
   "cell_type": "code",
   "execution_count": null,
   "metadata": {
    "collapsed": true
   },
   "outputs": [],
   "source": []
  }
 ],
 "metadata": {
  "kernelspec": {
   "display_name": "Python 2",
   "language": "python",
   "name": "python2"
  },
  "language_info": {
   "codemirror_mode": {
    "name": "ipython",
    "version": 2
   },
   "file_extension": ".py",
   "mimetype": "text/x-python",
   "name": "python",
   "nbconvert_exporter": "python",
   "pygments_lexer": "ipython2",
   "version": "2.7.12"
  }
 },
 "nbformat": 4,
 "nbformat_minor": 0
}
